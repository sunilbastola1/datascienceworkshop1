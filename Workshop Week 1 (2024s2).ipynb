{
 "cells": [
  {
   "cell_type": "markdown",
   "metadata": {},
   "source": [
    "# COMP2200/COMP6200 Week 1 Practical"
   ]
  },
  {
   "cell_type": "markdown",
   "metadata": {},
   "source": [
    "The goal of this week's practical is to get you started using Python, Jupyter Notebooks, and Git, three tools that you will use through the semester in your work.  \n",
    "\n",
    "**Python** is our language of choice in COMP2200/COMP6200. If you do not have any experience of using Python, you need to learn basic Python coding.\n",
    "\n",
    "You are looking at a **Jupyter Notebook**, it is a document that mixes text, code and the output of the code. A lot of your work will be creating notebooks like this to present your analysis.  \n",
    "\n",
    "**Git** is a distributed version control system (DVCS), you will use it to keep track of your work and ensure that you have a backup copy of what you are doing. You should have checked this notebook out of **Github** using Git. Your task this week is to complete some programming work in this worksheet and commit your changes to your own Bitbucket repository."
   ]
  },
  {
   "cell_type": "markdown",
   "metadata": {},
   "source": [
    "## Python Basics"
   ]
  },
  {
   "cell_type": "markdown",
   "metadata": {},
   "source": [
    "Your task this week is to complete some basic programming tasks with Python in this worksheet.  There are questions below with a space for you to write code to achieve the given outcomes. Write the code, test it, and when you are done, submit your work as described at the end of the notebook. \n",
    "\n",
    "The tasks aren't meant to be complicated Python problems, just some simple tasks to get you started with this process.  "
   ]
  },
  {
   "cell_type": "markdown",
   "metadata": {},
   "source": [
    "### Examples - basics\n",
    "- How to define a variable\n",
    "- How to perform some basic arithmatic operation\n",
    "- How to use a constant"
   ]
  },
  {
   "cell_type": "code",
   "execution_count": 5,
   "metadata": {},
   "outputs": [
    {
     "name": "stdout",
     "output_type": "stream",
     "text": [
      "The area of the circle is:  78.53981633974483\n"
     ]
    }
   ],
   "source": [
    "# Let's show an example of calculating the area of a circle\n",
    "\n",
    "# Define the radius\n",
    "radius = 5\n",
    "\n",
    "# Then we can calculate the area. \n",
    "# We need to make use of a constant PI (around 3.1415926), which is defined in the module math\n",
    "import math\n",
    "\n",
    "area = math.pi * radius * radius\n",
    "\n",
    "print(\"The area of the circle is: \", area)\n"
   ]
  },
  {
   "cell_type": "markdown",
   "metadata": {},
   "source": [
    "- How to use a built-in function\n",
    "\n",
    "To calculate the the squared radius \"raius*radius\", we could also use the built-in function pow() in the math module."
   ]
  },
  {
   "cell_type": "code",
   "execution_count": 15,
   "metadata": {},
   "outputs": [
    {
     "name": "stdout",
     "output_type": "stream",
     "text": [
      "The area of the circle is:  78.53981633974483\n"
     ]
    }
   ],
   "source": [
    "# Task 1: Re-calculate the area of the circle above with using the funciton pow(). \n",
    "# Read the manual about how to call the function and write your code below and print the result.\n",
    "\n",
    "# write your code here: \n",
    "area = math.pi * pow(radius, 2)\n",
    "print(\"The area of the circle is: \", area)"
   ]
  },
  {
   "cell_type": "markdown",
   "metadata": {},
   "source": [
    "### Examples - control structures\n",
    "- Braching strucutre: if-else \n",
    "- Loop structure: for, while\n",
    "- Boolean values: True/False"
   ]
  },
  {
   "cell_type": "code",
   "execution_count": 17,
   "metadata": {},
   "outputs": [
    {
     "name": "stdin",
     "output_type": "stream",
     "text": [
      " 2\n"
     ]
    },
    {
     "name": "stdout",
     "output_type": "stream",
     "text": [
      "It's an even number.\n"
     ]
    }
   ],
   "source": [
    "# Let's test if a given number is even or odd, we need to use the if-else structure\n",
    "\n",
    "# The built-in input() function can let you input a string. \n",
    "# Let's input an integer number and test if it's even or odd.\n",
    "\n",
    "x = input()\n",
    "\n",
    "# Now x is a string. We need to convert it to an integer.\n",
    "x = int(x)\n",
    "\n",
    "# Now can divid x by 2 to check its parity.\n",
    "if x%2 == 0:\n",
    "    print(\"It's an even number.\")\n",
    "else:\n",
    "    print(\"It's an odd number.\")\n"
   ]
  },
  {
   "cell_type": "code",
   "execution_count": 27,
   "metadata": {},
   "outputs": [
    {
     "name": "stdin",
     "output_type": "stream",
     "text": [
      " 7\n"
     ]
    },
    {
     "name": "stdout",
     "output_type": "stream",
     "text": [
      "It's a prime nubmer.\n"
     ]
    }
   ],
   "source": [
    "# Now we go further to check if the given number is a prime number of not.\n",
    "# To be a prime number, it cannot be divided by the number less than it. So, simply use the loop structure to test.\n",
    "\n",
    "\n",
    "x = input()\n",
    "\n",
    "# Now x is a string. We need to convert it to an integer.\n",
    "x = int(x)\n",
    "\n",
    "# Now we use a loop to try to divide the number by the numbers less than it.\n",
    "# 0 and 1 are not prime.\n",
    "if x < 2:\n",
    "    print(\"It's not a prime number.\")\n",
    "else:\n",
    "    # 2 is a prime number\n",
    "    if x == 2:\n",
    "        print(\"It's a prime nubmer.\")\n",
    "    else:\n",
    "        \n",
    "        # Use a loop to test its factor\n",
    "        # We use the built-in function range(a, b) to generate all the integer numbers between a (included) and b (excluded)\n",
    "        is_prime = True\n",
    "        for i in range(2, x):\n",
    "            # To test if i is a factor for x\n",
    "            if x%i == 0:\n",
    "                is_prime = False\n",
    "                break\n",
    "        if is_prime:\n",
    "            print(\"It's a prime nubmer.\")\n",
    "        else:\n",
    "            print(\"It's not a prime number.\")\n"
   ]
  },
  {
   "cell_type": "markdown",
   "metadata": {},
   "source": [
    "### Example - defining a function\n",
    "- How to define your own function\n",
    "\n",
    "Python is a dynamically typed language so we don't need to declare the type of a variable or declare the return type of a function (although Python 3 introduced optional [type hints](https://docs.python.org/3/library/typing.html)).  Apart from that the idea of writing a function in Python is the same as in Processing or (methods in) Java.\n",
    "\n",
    "Write a function that takes a single string argument and returns the number of words in the string using the code you wrote above to count words."
   ]
  },
  {
   "cell_type": "code",
   "execution_count": 29,
   "metadata": {},
   "outputs": [
    {
     "name": "stdin",
     "output_type": "stream",
     "text": [
      " 3\n"
     ]
    },
    {
     "name": "stdout",
     "output_type": "stream",
     "text": [
      "It's a prime nubmer.\n"
     ]
    }
   ],
   "source": [
    "# Now, to make things easier for the number primality test, we can make a self-defined function. \n",
    "# We can just simply resue the code above\n",
    "\n",
    "def is_prime(x):\n",
    "    # Now we use a loop to try to divide the number by the numbers less than it.\n",
    "    # 0 and 1 are not prime.\n",
    "    if x < 2:\n",
    "        return False\n",
    "    else:\n",
    "        # 2 is a prime number\n",
    "        if x == 2:\n",
    "            return True\n",
    "        else:\n",
    "            # Use a loop to test its factor\n",
    "            # We use the built-in function range(a, b) to generate all the integer numbers between a (included) and b (excluded)\n",
    "            for i in range(2, x):\n",
    "                # To test if i is a factor for x\n",
    "                if x%i == 0:\n",
    "                    return False\n",
    "            return True\n",
    "\n",
    "# Now, let's try to call this function to test a number\n",
    "\n",
    "x = input()\n",
    "\n",
    "# Now x is a string. We need to convert it to an integer.\n",
    "x = int(x)\n",
    "\n",
    "# Now we can directly call the function we defined before.\n",
    "if is_prime(x):\n",
    "    print(\"It's a prime nubmer.\")\n",
    "else:\n",
    "    print(\"It's not a prime number.\")\n",
    "        "
   ]
  },
  {
   "cell_type": "code",
   "execution_count": 90,
   "metadata": {},
   "outputs": [
    {
     "name": "stdin",
     "output_type": "stream",
     "text": [
      " 4\n"
     ]
    },
    {
     "name": "stdout",
     "output_type": "stream",
     "text": [
      "It's not a prime number.\n"
     ]
    }
   ],
   "source": [
    "# Task 2: Now we want to have a smarter way to perform the primality test. \n",
    "# We can improve the testing process with less computation by an optimisation strategy.\n",
    "# Strategy: You just need to test the factors less than the sqared root of number, i.e., sqrt(x). \n",
    "# The reason is that one of the factors (if any) of the number x must not be greater than sqrt(x).\n",
    "# Your task is to define a new version of the primality testing function is_prime_faster(x).\n",
    "# write your code here: \n",
    "\n",
    "def is_prime(x):\n",
    "    # Now we use a loop to try to divide the number by the numbers less than it.\n",
    "    # 0 and 1 are not prime.\n",
    "    if x < 2:\n",
    "        return False\n",
    "    else:\n",
    "        # 2 is a prime number\n",
    "        if x == 2:\n",
    "            return True\n",
    "        if x % 2 == 0:\n",
    "            return False\n",
    "        else:\n",
    "            # Use a loop to test its factor\n",
    "            # We use the built-in function range(a, b) to generate all the integer numbers between a (included) and b (excluded)\n",
    "            for i in range(3, int(math.sqrt(x)) + 1, 2 ):\n",
    "                # To test if i is a factor for x\n",
    "                if x%i == 0:\n",
    "                    return False\n",
    "            return True\n",
    "\n",
    "# Now, let's try to call this function to test a number\n",
    "\n",
    "x = input()\n",
    "\n",
    "# Now x is a string. We need to convert it to an integer.\n",
    "x = int(x)\n",
    "\n",
    "# Now we can directly call the function we defined before.\n",
    "if is_prime(x):\n",
    "    print(\"It's a prime nubmer.\")\n",
    "else:\n",
    "    print(\"It's not a prime number.\")"
   ]
  },
  {
   "cell_type": "markdown",
   "metadata": {},
   "source": [
    "## String Manipulation\n",
    "\n",
    "The next cell defines three strings that you will use for the following group of questions. Note that the first uses single quotes, the second uses double quotes and the third uses three double quotes since it includes newline characters.  These are all valid ways of writing strings in Python and are equivalent."
   ]
  },
  {
   "cell_type": "markdown",
   "metadata": {},
   "source": [
    "#### title = 'Data Science'\n",
    "\n",
    "code = \"COMP2200/COMP6200\"\n",
    "\n",
    "description = \"\"\"This unit introduces students to the fundamental techniques and \n",
    "tools of data science, such as the graphical display of data, \n",
    "predictive models, evaluation methodologies, regression, \n",
    "classification and clustering. The unit provides practical \n",
    "experience applying these methods using industry-standard \n",
    "software tools to real-world data sets. Students who have \n",
    "completed this unit will be able to identify which data \n",
    "science methods are most appropriate for a real-world data \n",
    "set, apply these methods to the data set, and interpret the \n",
    "results of the analysis they have performed. \"\"\""
   ]
  },
  {
   "cell_type": "markdown",
   "metadata": {},
   "source": [
    "Task 3.\n",
    "\n",
    "Write code to print the length of these strings, i.e., how many words they contain."
   ]
  },
  {
   "cell_type": "code",
   "execution_count": 64,
   "metadata": {
    "scrolled": true
   },
   "outputs": [
    {
     "name": "stdout",
     "output_type": "stream",
     "text": [
      "12\n",
      "17\n"
     ]
    }
   ],
   "source": [
    "#write your code here: print the lenght of these strings\n",
    "title = 'Data Science'\n",
    "code = \"COMP2200/COMP6200\"\n",
    "description = \"\"\"This unit introduces students to the fundamental techniques and tools of data science, such as the graphical display of \n",
    "data, predictive models, evaluation methodologies, regression, classification and clustering. The unit provides practical experience \n",
    "applying these methods using industry-standard software tools to real-world data sets. Students who have completed this unit will be \n",
    "able to identify which data science methods are most appropriate for a real-world data set, apply these methods to the data set, and \n",
    "interpret the results of the analysis they have performed. \"\"\"\n",
    "\n",
    "print(len(title))\n",
    "print(len(code))"
   ]
  },
  {
   "cell_type": "markdown",
   "metadata": {},
   "source": [
    "Write code to create a new string in a variable 'summary' that contains the code, title and the first 20 characters of the description, with a ':' character between each one (ie 'COMP2200/COMP6200:Data Science:This unit...'"
   ]
  },
  {
   "cell_type": "code",
   "execution_count": 66,
   "metadata": {},
   "outputs": [
    {
     "name": "stdout",
     "output_type": "stream",
     "text": [
      "COMP2200/COMP6200:Data Science:This unit introduces\n"
     ]
    }
   ],
   "source": [
    "# write your code here: create a new string summary and then print it\n",
    "summary = code + ':' + title + \":\" + description[:20]\n",
    "print(summary)"
   ]
  },
  {
   "cell_type": "markdown",
   "metadata": {},
   "source": [
    "Write code to find the number of words in the description.  Hint, this is easy in Python since strings support the [split method](https://docs.python.org/3.6/library/stdtypes.html#str.split) that returns a list of strings after splitting on whitespace (or another character if you wish).   Try split on the string, then find out how many strings are in the resulting list."
   ]
  },
  {
   "cell_type": "code",
   "execution_count": 68,
   "metadata": {},
   "outputs": [
    {
     "name": "stdout",
     "output_type": "stream",
     "text": [
      "['This', 'unit', 'introduces', 'students', 'to', 'the', 'fundamental', 'techniques', 'and', 'tools', 'of', 'data', 'science,', 'such', 'as', 'the', 'graphical', 'display', 'of', '\\ndata,', 'predictive', 'models,', 'evaluation', 'methodologies,', 'regression,', 'classification', 'and', 'clustering.', 'The', 'unit', 'provides', 'practical', 'experience', '\\napplying', 'these', 'methods', 'using', 'industry-standard', 'software', 'tools', 'to', 'real-world', 'data', 'sets.', 'Students', 'who', 'have', 'completed', 'this', 'unit', 'will', 'be', '\\nable', 'to', 'identify', 'which', 'data', 'science', 'methods', 'are', 'most', 'appropriate', 'for', 'a', 'real-world', 'data', 'set,', 'apply', 'these', 'methods', 'to', 'the', 'data', 'set,', 'and', '\\ninterpret', 'the', 'results', 'of', 'the', 'analysis', 'they', 'have', 'performed.', '']\n"
     ]
    }
   ],
   "source": [
    "#write your code here\n",
    "\n",
    "words = description.split(\" \")\n",
    "print(words)"
   ]
  },
  {
   "cell_type": "markdown",
   "metadata": {},
   "source": [
    "## Data generation and plotting\n",
    "\n",
    "Just to give you a taste of some of the capabilities of Jupyter notebooks and Python we will look at a very simple example of data handling and plotting.  First you need to import some libraries that will allow you to do this: `matplotlib` does the plotting. You also need to use the random module to generate random numbers.\n",
    "\n",
    "- How to use an array\n",
    "- the random module\n",
    "- Gaussian distribution\n",
    "- Pyhton plotting"
   ]
  },
  {
   "cell_type": "code",
   "execution_count": 72,
   "metadata": {},
   "outputs": [],
   "source": [
    "import random"
   ]
  },
  {
   "cell_type": "markdown",
   "metadata": {},
   "source": [
    "The Gaussian or Normal disbribution is often used in data science for data distribution modelling and data analytics. The Python random module has the function gauss() that draws a random number from a Gaussian distribition. Two parameter $\\mu$ and $\\sigma$ should be given to determine a Gaussian distribution."
   ]
  },
  {
   "cell_type": "code",
   "execution_count": 74,
   "metadata": {},
   "outputs": [
    {
     "name": "stdout",
     "output_type": "stream",
     "text": [
      "0.9292268950022836\n",
      "[-6.012811208648917, -0.1937223600196316, 3.549594067371222, -6.805521430705209, 1.0731005594213707, 5.69906205712024, -5.932260078854291, -3.298926993095285, 3.4764387113614177, -1.5715689413415563, 8.903247414593787, -4.562565064196555, 9.362509594541924, -0.774289155536838, -1.7086439608001736, -2.795528084066936, -0.581557639596965, -10.704515367151398, -7.971975087311546, -1.948726079930275, 5.0619786404268075, 2.450545223386665, 5.674673429394424, -2.8331361961939896, 6.784394135260147, 8.084993674614031, -1.6979253143186859, 3.915946915202869, 6.570496677572315, 0.9074529922492729, 3.2090162799274093, 3.28707497442264, 4.24481830301145, 1.406278678632733, -9.419776379967, -4.09981006189369, -4.2647209349317805, -0.016754376770868978, -3.7420226868502326, 5.076025505158325, -3.1450747668971095, -2.964617314037053, -0.34261361852420547, 2.273183763399483, 5.147404483098482, 3.528875022840162, -4.641190352444593, -10.67919123555398, -2.03484159283154, -6.278859500841803, -1.3970198023007678, -1.8169577482734545, -5.393559036529053, -1.4632724661375798, -0.46631588065758744, -5.194228443131066, -2.687006077325277, 0.2257554270454509, -10.289044021109587, 5.000737404030586, -0.9583809539605592, -11.450877137809101, -3.504364476086516, -6.387092085589709, -0.8810806844195467, 0.7236175412796646, 4.20042832607867, -1.7042736395564086, -6.110016835821588, 3.15062743645798, 6.618523797074029, 2.805187893935697, -7.451899373145591, -3.4274993772964812, 3.530336861664574, -11.357742004174296, -2.761254680134548, 0.36421523478667495, 8.044300822963397, 9.207460628824274, -5.760794839940377, -0.2709106843367699, -6.461755416915571, 3.3114883145834617, 6.949197476777487, 1.452762423067234, 3.3854296582959087, -4.741698720487378, -3.790193599302187, 0.3696452471835873, -1.8590266330335081, 8.938874238810476, -9.51754738184243, 5.531094563166528, 1.4239869065549806, 2.379732458563356, -3.746444030978596, 2.9324920312302765, 8.38993518380983, 0.14945567163963047]\n"
     ]
    }
   ],
   "source": [
    "# Random draw a number from a Gauassian distribution\n",
    "mu=0\n",
    "sigma=5\n",
    "x = random.gauss(mu, sigma)\n",
    "print(x)\n",
    "\n",
    "# Use a loop to draw a set of 100 such random numbers\n",
    "# x is an array for the generated numbers\n",
    "x=[]\n",
    "for i in range(100):\n",
    "    x.append(random.gauss(mu, sigma))\n",
    "\n",
    "print(x)"
   ]
  },
  {
   "cell_type": "markdown",
   "metadata": {},
   "source": [
    "In terms of the probability density function, we can calculate the probability density for the genrated random number. The probability density function is defined as $p(x)=\\frac{1}{\\sqrt{2\\pi\\sigma^2}}e^{-\\frac{(x-\\mu)^2}{2\\sigma^2}}$."
   ]
  },
  {
   "cell_type": "code",
   "execution_count": 76,
   "metadata": {},
   "outputs": [
    {
     "name": "stdout",
     "output_type": "stream",
     "text": [
      "0.07978845608028654\n",
      "[0.038717854906290795, 0.07972859196257658, 0.06201563139118372, 0.03159744915740299, 0.07797185569320941, 0.041670467593813224, 0.03947014804456053, 0.0641818491516734, 0.0626564300821769, 0.07594293891906577, 0.016346642798492687, 0.052616977511431406, 0.013821800819730404, 0.07883746747370046, 0.07526306799748478, 0.06824330185752578, 0.07925057336175738, 0.00806590443444148, 0.022383657070030476, 0.07395288244189654, 0.04779429487146188, 0.07075869280701355, 0.041902289302967764, 0.06795499305583944, 0.03177941514481321, 0.021585814848373495, 0.0753180509013642, 0.058714459687831726, 0.03364788837574612, 0.07848514841161403, 0.06493736069538898, 0.06428212479281047, 0.055645943658523093, 0.07669422704896423, 0.01352764125268649, 0.05700904745225554, 0.05545777610407008, 0.07978800813456463, 0.06029952084798462, 0.04765836353108012, 0.06546717863788083, 0.0669268155367914, 0.07960135788100228, 0.07195432515719187, 0.046967852348294065, 0.0621978015836911, 0.0518609384401017, 0.00815373679341881, 0.07344723279143729, 0.03626660338006133, 0.07673404996180884, 0.07469044140383084, 0.04459265911892387, 0.07644377529422441, 0.07944220874832222, 0.04651517721012418, 0.06906021465192519, 0.0797071683243887, 0.0096031416099638, 0.04838700769637865, 0.07833613198336695, 0.005794603705367269, 0.06241261545645965, 0.035285775667901614, 0.07855922271926487, 0.07895723576121223, 0.05606472746757826, 0.07528552314212172, 0.0378160160783064, 0.06542142266272537, 0.0332243050630458, 0.06816950001326341, 0.026278805716170535, 0.06308126360731947, 0.062184965991101585, 0.006046095940614218, 0.0685037360852981, 0.07957705349360315, 0.02187103850078777, 0.014641093651529767, 0.041085024577158666, 0.07967142435086765, 0.034615209693203614, 0.06407535010296149, 0.030372935185509375, 0.07649064610244326, 0.06344390653923163, 0.05089194696778886, 0.059863530677746614, 0.07957071165964663, 0.07445978886541275, 0.016140140698741843, 0.013035868455114268, 0.04327255896709256, 0.07661738882493888, 0.07124440586255218, 0.0602596048220071, 0.06718087730226992, 0.019522323107781656, 0.07975281934971987]\n"
     ]
    }
   ],
   "source": [
    "# We can implement the probabiity density function as follows:\n",
    "def pdf(mu, sigma, x):\n",
    "    return math.exp(-0.5*math.pow(x-mu, 2)/pow(sigma, 2))/math.sqrt(2*math.pi*pow(sigma, 2))\n",
    "\n",
    "\n",
    "# The probability density example\n",
    "mu=0\n",
    "sigma=5\n",
    "print(pdf(mu, sigma, 0))\n",
    "\n",
    "\n",
    "# Now we can calculate the probablity density for the random numbers generated above. \n",
    "# You need to ensure that the distribution is the same, i.e., the same mu and sigma.\n",
    "y=[]\n",
    "for i in x:\n",
    "    y.append(pdf(mu, sigma, i))\n",
    "\n",
    "print(y)"
   ]
  },
  {
   "cell_type": "markdown",
   "metadata": {},
   "source": [
    "Now we will create a simple plot."
   ]
  },
  {
   "cell_type": "code",
   "execution_count": 78,
   "metadata": {},
   "outputs": [],
   "source": [
    "import matplotlib.pyplot as plt\n",
    "%matplotlib inline"
   ]
  },
  {
   "cell_type": "code",
   "execution_count": 80,
   "metadata": {},
   "outputs": [
    {
     "data": {
      "image/png": "[encoded data removed]",
      "text/plain": [
       "<Figure size 640x480 with 1 Axes>"
      ]
     },
     "metadata": {},
     "output_type": "display_data"
    }
   ],
   "source": [
    "fig, ax = plt.subplots()\n",
    "\n",
    "# Settings\n",
    "ax.set_xlabel('x')\n",
    "ax.set_ylabel('probability density')\n",
    "ax.set_title('Random Numbers from Gaussian Distribution')\n",
    "\n",
    "# Plot the random numbers (X-axis) and their probability density (Y-axis)\n",
    "ax.scatter(x, y)\n",
    "\n",
    "plt.show()"
   ]
  },
  {
   "cell_type": "code",
   "execution_count": 82,
   "metadata": {},
   "outputs": [
    {
     "name": "stdout",
     "output_type": "stream",
     "text": [
      "1.0925201335914096\n",
      "[3.1482135159660256, -1.808078409939796, 10.331392693072702, -0.8269310453375689, 0.4458855974066611, 14.430598895614201, -0.6126386025915211, 9.308062045563023, -10.372045578765931, 5.019520599266469, -1.1119612314012564, 11.925460573083443, 6.538070376119637, 4.240448937886834, -6.04966056275935, -7.344179654983181, 3.488516377122431, 4.755167521595903, 2.133120175946652, 9.705084177086558, 16.252062453776013, -6.862150763565319, 13.490539628555076, 5.5595485497360375, 1.8745247011701744, -3.4591678062106475, -4.897272216538006, 10.574734911996357, 0.5071575162452908, 5.874944079006623, 15.295729528976613, 6.830417814893812, 3.1132773090171684, 11.443756006570565, 0.7199957418778293, -3.00655613628943, 6.9497418379677836, 6.692028321922299, 6.892936724662264, 13.948931978854091, 1.0189828627627278, 5.888231767616281, 9.5663791258672, -3.404509176365056, -5.1473631372277, -0.3427868419381914, 5.734779780132758, 11.180706709974299, 4.465588133318396, 5.9894675850720684, 3.1527133495755635, -4.474973948873351, 2.789572933948679, 8.620529213600726, 4.5400188227603495, 2.0637615007258945, 2.700415461687798, -0.09753957064005281, 10.314975476279486, 4.864764246044006, 5.038224435880806, 8.57074236835819, 1.6687831804778022, 8.637293114405278, 6.782509683209281, 9.070969826614814, 4.86884194333228, -4.477485883285226, 1.349832933926351, 2.9429170462508085, 0.9206055131166178, -5.193314044445863, 7.67399666598734, 2.142046945427526, 4.959124908041808, 3.893478967552369, -6.690609432060064, -3.4505268433823826, 5.846033413332288, 6.712519511060417, 14.162460279885897, 0.18459337033227818, -4.951530135182281, 12.225937094574942, 13.933033382946089, 5.097792492719668, 9.058702029356123, 11.154594027992573, -0.4555145967339458, 6.5674168978404674, 18.42651332981437, 5.812885546147567, -1.1266194895533337, -2.0380343585949916, 9.281216524272818, 9.682402700557155, -5.685299044841125, -8.318904240885619, 2.945218245824041, 14.493362738256945, -3.399469950114508, 10.771743300479457, 1.9818209846089045, -3.9108495211885588, 9.334752330561773, 11.586571464635622, -0.20513505708524482, -4.763654773395059, -1.9994221717640261, 9.517990620678479, 3.7246291484320353, 4.368411722627986, 12.291322264030322, -1.9288156495763955, 2.6453186162107096, 3.868944056950647, 7.534226573958264, 12.980244936356424, 19.862322422238115, 9.638769150944338, 1.38847332600675, -6.873278124374844, 6.607678591884539, 11.851009279054242, -6.248333616204626, 5.6192561231786335, 11.103479600566583, 8.213829006816656, 10.614884962665128, -0.35336944140633175, 4.911620691294049, -3.9784386620510848, 10.261009760542533, 8.07857264002603, 1.3733285910628372, 5.528066926814813, -0.3073180104315929, 15.449861146307114, 12.0145298512181, 5.043738036794738, 5.1438140764951825, 9.959948675529509, -1.060036645174221, -0.13352972413574182, -3.604386923673032, 4.1563649974618295, 1.2556134798037815, 13.078093332869505, 3.0143498191037357, 6.31752470947444, 10.243065102758376, 9.23595837428213, 19.087907522359554, 1.8731447080548773, 4.594280986719406, -2.838136493362531, 7.248814095458464, 5.271383268729691, 3.000422939596545, 4.686516969267746, -4.249353811049719, 0.6126539036338299, -22.28203454334474, -5.696994210279959, 11.565214050472104, -0.5360359683196756, -1.886138371132974, -3.9836872775456307, 10.11252075316327, 1.808449992956356, 5.416483891471561, 8.248948536288285, 2.6291278687256363, 8.070155459746232, 0.7767979297349976, 5.770263860854798, 14.630777062195897, -0.7229432159698632, -1.216167763899584, 8.700708780616914, 3.4710569051846947, 1.8728915754468307, -6.4276247842665555, 0.2822437075787363, -4.613476961735445, 6.061679705612505, 3.8527782992813564, -1.28221304392466, 3.037552527025806, -11.09770227685055, 5.916909779839152, 15.52146057034086, 2.637974046814353, 4.304126110449926, 8.686844006465906, 8.311193195747157, -4.569046959949404, -1.0906558690495967, -7.978175015550734, 4.610708735210439, -4.139188823852174, 8.880951111206919, 4.944202721390924, 10.000195601107663, 9.181268475180755, 0.8990962648858312, 0.6018630345311693, 4.50985710045912, -0.14635602645077928, 12.320731851366315, 12.445891811001374, 1.2797272444016108, 5.263322271200122, 11.462959429886812, -1.8462917746378418, -7.333920038665671, 3.7321192421743916, 10.683514801484206, 3.212567707403537, -3.149432558272892, 5.123037470826787, 7.528903458691785, 15.89391090570204, 1.4529012195564022, -3.604683054010314, -7.014547821875105, 5.415382557077252, 1.7658829166347911, 10.903836142799381, -6.904752742337944, -1.4999501510846383, 15.976941127085304, 3.5144752964127206, 1.8523090103744997, 5.552240815755858, -8.91117656975118, 9.345602703891075, 8.119735315707398, 8.147383603234271, 9.101973114125146, 7.25281633640645, 7.813127446367099, 2.0851985237836708, 4.654892996824365, 7.683028625102306, 5.691653756151636, -1.2167960880476896, 11.28681630905032, 0.5737031660992731, 15.877877603029514, 12.317760919292063, 1.5412417166999293, -0.1273050752293292, 0.9519409968357504, 7.952287312944383, 7.993932949789101, 0.9247205018547415, 2.565419209948634, -1.4400590276454723, -6.61739117415156, 10.443703003942042, -3.575716758733722, -0.6711511810073256, 4.975850770439313, 9.350651337088605, 1.306700700091409, 4.606320857792255, 5.324316547487685, -0.930387125568362, -3.467422134029375, 0.08528534130308474, 4.989081399333395, -1.0368580512995322, 4.454709015965305, -9.573255233693583, 1.3128741784522222, -3.413945322437316, 3.8466895875948275, -0.7773086202445523, 8.136900899161429, -2.206673619590421, 2.352748648872005, 1.4091236687784625, 1.9559043204003377, -2.250630947613752, 4.750137243253869, 11.904374788004306, -0.15317069137482253, 18.929754129154766, 9.332272838259442, 3.071659406237044, -0.9849280788769237, -3.4544087821282528, 2.1210044392447793, 3.3382089080567945, 1.5602577289149657, 3.5320583602408706, -4.427947110418539, -4.546719281536461, 2.2944115372897755, 7.357486184202619, -4.570048901183842, 3.384854193601739, 8.409369837955389, -2.746513615337748, 10.737157144346316, 1.6399562414201951, 8.273197544009356, -0.9198449529403474, 0.22301698634508993, 1.2070697520167224, -3.2881879093124624, 15.623247895578634, 13.123252875396112, 8.749692915213462, 2.8330748366370235, -0.8788956209141396, -0.4833011459030674, 9.462078120801577, -1.3295655318538673, 0.7751816509877822, -7.374282244701082, 8.00377950704543, -1.9719828795647123, -3.476684726486954, 6.127917049416552, -1.2003949126817641, 11.408226164920908, 2.0705810110451734, -2.4464552464076217, 9.451916466547761, 8.873195791518356, 0.2215530398071781, -4.045281635633711, -6.590043129344952, 11.228502881307282, 9.361338035513082, -3.2383611268101298, 5.409156950228886, 8.051897108945102, 3.1930912471246398, 4.7038037889024125, -0.17169426088450734, 4.240336221220289, 11.272303603504518, 14.314155641560703, 0.48113774070573845, 7.167334795496827, 6.029066033125444, 1.860603359409946, 4.059677788535579, -12.041634803165977, 7.222450876146617, 6.837350830618884, -5.307677088615387, 10.376910649694006, 13.401048025327839, 5.341625231013067, 4.963085774960973, 6.1358380206059415, 8.12068791938194, -4.856333362761307, 7.773407053799735, -0.16902582084462736, 4.297557008752805, 6.163414177025062, -1.3483502385287416, 6.219917070745323, 16.792051499413244, -1.2945456213261313, -11.727230023391547, -4.671395104578368, -2.1452430907140165, 4.184093452466027, -0.6771221829809537, 8.937882964310404, 0.1546174680480119, 3.0231801602773243, -2.719737483963356, 2.9050968957864076, 7.226827021438438, 0.6213091725728388, -2.5542742963384892, 7.751387439105115, 3.872507800026706, -6.713995232135639, 0.4279450303181278, 0.6447703916821004, 3.0865977198975334, 4.598058855210136, -10.734521708827813, 12.714710249660662, -1.3313548547705851, 9.803545678263795, -2.437307064455694, 1.3302323127354452, 7.12554656448647, 8.519806186043926, -1.8644971540556092, 1.736181166042792, 9.283061855526123, 4.56745854182752, -4.666321777558952, -1.313713201080276, 2.2112394283307646, 11.350056466387034, -7.119237861213104, -4.378432594942378, 9.781940240811156, 10.068882639100588, 5.405422603296258, 3.1762317358355037, 5.659228710120685, 1.7333075660540453, 12.653862397723497, -5.36064325635591, 7.338823146838841, 5.776895045397678, 8.093558808617637, 3.25225193862602, 3.9538888651378405, 9.767768783961484, 15.36741659039958, -7.087782471602424, 7.971506860255465, -5.344384734685768, 0.2897389198678302, 7.612697663582658, 2.9042569659772712, 2.9254169399231205, 2.689066955898532, -4.221100801087024, -11.266455779902046, 0.1492863251155847, 5.3446027978942565, 4.621175036826285, -5.091785990791216, -0.28700342538839685, -0.6424704157051888, 1.5095020645156394, -7.618599109390789, 2.8503229357145776, -0.8693791495559968, -3.090514124038652, 4.559896885783049, -4.400542400119947, -1.3285366073873854, 8.424584445367177, -3.780538724248659, 3.6841722596683413, 17.275278433968026, 6.423960238701259, 7.638779551883216, 9.046309637376892, 9.711279801431422, 2.8067071242215977, 16.61840448072288, 6.423349227183681, 2.7158852883956808, 11.428051539167445, 5.041916549651929, 4.380128367389593, -1.4037036413807407, 4.729090160626532, 8.032830206886086, 8.085859136368926, 11.875380404998426, 11.610050282682433, 1.684398653191647, 7.760380116106133, 12.787361543727965, 7.1386546685648, 4.150728466691831, -5.711230578402816, -2.225632210871936, -4.316929279337445, -6.720948015755868, 4.154278012118741, 12.401151128348586, 16.344691759940968, 8.871741075839115, 6.551866368034178, -1.1020742125356957, -3.8591780966858815, -5.1381260396491015, 6.911245892915723, 1.8340522474939167, 13.333196935398126, -1.749292334523603, 7.618593565208534, 7.545235306074093, 8.640209623421656, 0.2850707892775861, 8.71394976348441, 7.127829122461726, -4.929827726122154, -3.603714573511313, 2.010450561067563, -8.611618326464502, 7.721042514969545, 4.002737981272892, 9.82696952376683, 12.211450856517002, 5.052568980452774, -6.128693573238703, 2.852646432575692, -1.6216363297412038, 6.623124123307152, 13.628942769847823, -0.8820773495928469, 0.9003885768266531, -1.3978129774253762, 0.7377444546097922, 1.3943723948387954, 5.91170150691105, 2.0671303240983763, -0.17712961212770573, 6.416989217417827, 2.1145167679542753, 10.102419333643457, 1.414822758360425, 6.212998184152305, 2.5099011139627083, -0.08350188134702385, -2.377853196684237, 4.300059544004032, -3.156560831110056, 4.166029321475111, 2.662449293061144, 4.111744492874418, 2.003448587302193, 18.070653046116753, 0.24110181159643096, 11.693659065571143, 0.8584687834824583, 2.119321899982025, 6.33205706079374, -7.952428463009918, 1.4316029621573714, 4.217844344407783, -0.3785816082452138, 3.1766101703171303, -4.311196963112623, -2.5442459763381615, 1.0654476776602284, -0.2332790294767122, 4.33601973054488, 0.7335826122887998, 5.38085168653846, -6.794887176546075, 2.310860499346867, 3.403771474511027, 8.596987623457286, -1.1477774908630654, 5.406639003827976, -0.8778642285546754, 0.6063374910761397, -4.409773632421019, 2.207859786403133, 8.173854252978568, 1.2204444844658078, -1.0529422334365197, -3.1748308501798954, 16.557276604967612, 6.206849809969435, -3.9378603945055772, 1.8219307231904969, 11.68886574843375, -2.507288377615681, 10.355467640909021, -3.618615164582648, -2.158380695753637, 6.410529178504617, 0.2158238331446185, 5.844164152707934, 9.35351509626381, 5.627302305620349, 2.8466525316405527, -5.647324285939343, 11.484376563589963, 0.2729879693725299, 12.081714390386136, -1.368627508080002, 8.927583426676014, 4.45988317000714, -0.476494247112762, -0.36813127578487803, -3.8851242766036194, 7.722984898635396, 11.809733057903248, 2.828528237285691, 5.779799907619174, 4.682977747387984, 6.724714305726983, 3.9530007773556406, 4.530753387256713, -8.557592950725777, 10.732495532288134, 10.567119826347511, 10.780675891756157, 6.1092972382103214, 5.769120010125718, 17.643891807372142, 4.755882436562768, 11.358006082708798, -1.63433995381126, 3.7893398409282457, 7.467648553952131, 5.949841062307411, -7.303519063620353, -1.561676953502479, 3.377967107561893, -1.3329109575416513, 1.2989098139982667, 12.505483216304837, 2.7499739366241247, 12.494450670914432, 5.895497286904153, -5.472326124233824, 4.8706708075819725, 0.42929162347591143, 6.417902975748245, -4.6658511118147405, -1.8190345077994383, 3.511457401027037, 8.408803463626622, 1.345555392239341, 6.273124688935484, -0.3222740686163599, 10.067591559138293, 5.2836423876905405, 4.297681916335831, 4.7669679035436, -2.305481672217902, 7.013947878655335, -2.0362132151396466, -2.047632961445257, 5.14084421867194, 5.997605269826575, 2.327778234156873, 3.2841899821487277, 10.806090072810145, 10.373785357741891, 4.537599405170491, -2.5638553131740007, 2.7883634341146983, -5.036100781605686, -4.828816734948951, 2.295654510377159, 5.916048637469305, 3.93342623672081, 11.523375741683346, -5.060157289302296, 1.910680815778871, -9.387074529670594, 0.8106376155903257, 9.935362979743177, -4.604175463586108, 7.542960139610341, 4.728708848294437, 8.307362908174413, 3.253320560085774, 7.583487528253218, 17.049492345636743, 4.259254055991606, 6.887594240424101, 9.89932598518208, -5.2494178027986145, -4.217744310138578, 3.84751924741913, 8.115668854417242, 2.211003471837788, 3.9212100250210584, -6.488056476711105, 6.34512769270764, 3.4883618836370687, 2.0990596649662843, -4.267984062258245, 3.9681770164033905, -4.970564186116496, 2.996425526800178, 1.0166684343385417, 9.393927359495866, 5.731298626100239, -0.7124160790241976, 0.4012805838427722, 2.335095429612756, -1.0257620547871724, 6.367280803299411, 7.284241100124072, 5.541133774469336, 5.894884922875112, -0.6054591651486714, 5.919856409735544, 12.59466735340004, 1.3430912845128513, -0.701574481387496, 7.373323631172147, 4.555284611458498, 5.709486330520919, 16.093070921398088, -2.899843857145271, 1.089892680360728, -4.260615100110027, 6.68118299703747, 1.2545745248013525, 13.115787070529814, 2.51744529234583, 4.379416446975165, 19.82677535897315, -1.1202293051970447, -2.0833146753873777, 0.38815831988961236, -2.9188250760424452, -3.330876558859517, 4.8776883218950235, 0.19109252276680433, 0.9081262975048872, 2.3728329385187474, 8.494944162102, 0.43676959561978856, -2.5455863275884862, -2.0965190144423227, 5.563321931971691, 7.2165500619341785, 3.0779546274098935, -4.084101224277595, 5.4369053315703875, 3.9655114835544096, 20.394562780014283, 3.8425310746405694, 11.957756796142162, -12.606130599201066, 1.1131491894587557, 12.642028509707744, 8.208958823191718, 1.2564444840650655, -8.947770425348281, -6.036222978420776, 7.561664455290619, 4.846472742840611, 0.859274035704654, -8.366958486509791, 11.319544766435046, 2.769928142488508, 7.651454307768248, -10.557292069441038, 1.7373057177426663, 4.185585982249279, 10.220240422962434, -5.15614210104534, -16.07682974057274, 7.155159950089319, -0.4596593362076766, 6.358718240153875, 8.154012395107424, -3.5890040516341823, 11.165295455579635, -0.4809935649184851, -3.4850316641536043, 2.0323238434844417, -11.828650586197867, -4.440868194477927, 4.544723169968489, 6.59115938133088, 17.22240354794919, -0.15328899204015878, 7.011558574811441, 5.351947884822565, 5.776847800590102, -4.180686796034513, 5.426373735829424, 4.468889610954951, 3.5975703982543648, 12.28529601079396, 3.1716679140259805, -3.56966768037994, -6.932823487997474, 9.18231772767639, -3.736670377301234, 5.753382223965833, -0.6811366412199185, -5.6384804831075, 0.5028592570512957, 7.368116765060577, 7.60271714850826, 3.936036182395834, 2.702035144982652, 4.513171499686555, -0.735335928756772, 5.494359821987674, 5.470059703942371, -1.3223160379077452, 1.447705933985508, 2.1067187886205394, 3.1070923593333584, 6.080047412799562, 11.384559441962896, -4.52905648082781, 11.241422194057467, 11.195146054906925, -4.072064346784289, 2.4893604429833327, 10.378326344629588, 8.07211696748149, 2.0133367700882694, 9.468328448814091, 8.740596218292, 1.2316766765653022, -5.863201395971732, 7.332358752670271, 1.4843746097727082, 0.9756903013117597, 9.965011688556288, 7.271293292161483, -5.392771123558358, 2.719928519703926, 2.923338239229055, -0.5843906659253113, 7.790496761470128, 7.299492942470655, -4.038296115628539, -3.175457515307195, 0.6738324016803041, 1.2099080799007498, -0.3634738570810425, 10.038377474276352, -2.8899380722922823, 0.07374601499708877, 5.449217829055687, 8.033429833289754, 1.658318025083899, 0.5545549578081106, 5.29827138701994, 0.29070992710463983, 5.221420196610211, 8.049193885484156, 2.4883424515958863, 4.966709109957998, -5.637644411304329, 1.9929746650708786, 1.2739769299013215, -1.4800756528462635, 4.20708966381047, 8.528120120764505, 7.7017712504476314, 5.573604623508237, 0.4732734209634679, 7.215841530638476, -2.2344849883479547, -1.6944641640023743, -2.600747804005665, 8.26408565720363, -0.2682742397965532, -7.289115058453309, -3.1936441054941263, 17.080795886953496, 2.246886760517244, 10.14285766971923, 1.6170763187990758, 1.9020279999126024, 0.10134080670768109, 5.743377971389211, -1.6876751933975562, 6.058603232246073, 7.56363232688344, 6.329972002930068, 2.5765288381946734, -12.743056834254983, 0.6441981528246599, 11.968708808687989, -4.888495607632448, 7.931737928059313, 11.124803676571757, -3.8878832844042286, 7.5089359219226255, 2.500312230995465, 5.8854525827960895, 4.607993160452527, 7.948940692872988, 8.57887496918767, 6.255042415172882, 2.4072441688134996, -3.228457622928092, 20.418281452923363, 5.0587879234812, -2.0325905192932368, -6.393282128466236, -6.047757609928649, 4.787792724695665, -1.1114075451500458, 3.1699146050404456, -0.19347812603603476, 0.40599514983285445, 5.7563795654562115, 4.487342355640761, -6.71452726347767, -7.9290560405808215, -4.329125276267888, -8.615074783613638, 7.884683933348391, -4.526255382035447, 9.89990769247735, 3.5091807967935873, -2.607378831695174, 11.146728547851033, -0.2998044321199207, 12.714110233052546, 5.590561219597547, 9.084521760543321, 3.0404609732429457, 1.4606891011783805, -0.5883817105210425, 1.927081327633335, 13.045852172762963, 3.069167896096978, 5.709601894538896, 3.483777190561177, -6.106913649876116, -4.246941127956809, 1.8562069144090945, -2.432848467728804, 6.625366422761342, 9.365928967616563, 5.826170134273314, 0.43688773526059244, 7.208970905903363, 1.4926806179651684, 7.392596499006269, 9.107046563352347, 2.4723068603808844, 12.300428532431807, 10.30451757898522, 1.0022030371018213, 5.476544035798883, 2.863414097645809, 9.137887821333807, -6.776438980301686, 9.130096633916118, 4.78878088380471, -0.2130549423676218, 2.073768230537688, -1.7472919626530476, 11.433303818312165, 5.0437776979756155, 3.9930526984101378, 7.035595283265711, -1.2334920457372807, 10.267705994289058, -1.9834986124391847, 8.45760624740154, 9.402022976156143, -0.9286142920325764, 1.6709380342285107, 3.307482156629898, 10.912438280925768, 2.070968673371946, -11.352180599077027, 3.931413059866869, -3.47510372774017, 7.832877301207638, 9.830331457040714, -1.7442928768101247, 5.872477102275445, -2.1543222164239992, 3.897205692047703, 3.353680442781143, 8.833878464745588, 4.561507298546372, 11.069422683570274, -3.5689008081038143, 6.042796460140044, -1.5681512726433127, 11.664970277689005, 0.42366299407573615, -1.209994917736985, 12.291642589930657, -2.0525899885978864, 4.191746036121088, -0.47484110502673404, 8.57557235097836, -4.522383776602127, 2.531988647765971, 14.594702042911269, 8.751651887488782, 7.71926440775198, 9.027798612936282, 1.71834181895639, 1.0913343091733307, 4.405486478545492, -4.964360115490281, 4.211623090458001, 7.747930685323858, 4.357823274248504, -0.1323702491028209, 0.1492850357338451, 2.186382769520347, 0.5700928578764315, 3.286020382403169, 8.83699305834619]\n"
     ]
    }
   ],
   "source": [
    "# Task 4. In this task, please change the values mu and sigma to define another Gaussian distribution.\n",
    "# Then, generate 1000 random numbers, calculate their probaiblity density values, and plot as we did in the example above.\n",
    "\n",
    "# Your code here:\n",
    "\n",
    "# Random draw a number from a Gauassian distribution\n",
    "mu=3\n",
    "sigma=6\n",
    "x = random.gauss(mu, sigma)\n",
    "print(x)\n",
    "\n",
    "# Use a loop to draw a set of 100 such random numbers\n",
    "# x is an array for the generated numbers\n",
    "x=[]\n",
    "for i in range(1000):\n",
    "    x.append(random.gauss(mu, sigma))\n",
    "\n",
    "print(x)"
   ]
  },
  {
   "cell_type": "markdown",
   "metadata": {},
   "source": [
    "## Checkpoint\n",
    "\n",
    "You got your copy of this notebook by forking and then cloning my Github repository.  Now that you have made some changes you should commit your work with a suitable commit message and push your changes back to your Github repository.  Show your tutor your updated Github repository to get your checkpoint mark."
   ]
  },
  {
   "cell_type": "code",
   "execution_count": null,
   "metadata": {},
   "outputs": [],
   "source": []
  }
 ],
 "metadata": {
  "kernelspec": {
   "display_name": "Python 3 (ipykernel)",
   "language": "python",
   "name": "python3"
  },
  "language_info": {
   "codemirror_mode": {
    "name": "ipython",
    "version": 3
   },
   "file_extension": ".py",
   "mimetype": "text/x-python",
   "name": "python",
   "nbconvert_exporter": "python",
   "pygments_lexer": "ipython3",
   "version": "3.11.7"
  }
 },
 "nbformat": 4,
 "nbformat_minor": 4
}
